{
 "cells": [
  {
   "cell_type": "code",
   "execution_count": 56,
   "id": "679c21bd",
   "metadata": {},
   "outputs": [
    {
     "name": "stdout",
     "output_type": "stream",
     "text": [
      "['Welcome to my crib!', 'Couldn’t wait to dig in before posting', 'Australian Open 2nd week picks, mine in blue, Terese’s in purple. Who’s got the better draw? 🎾#australianopen2022', 'Yes, we pulled off the Iron Lotus', 'I liked it so I put a ring on it! 💍 Thanks to @hannahfosterphoto for the amazing photography, my dad for helping me find a beautiful diamond, and the stranger in the park for telling me to never let her go 5 minutes before I proposed.', 'Red white and Blue Ridge ⛰', 'Every time I say it’s my best one yet and this time is no different! Time to party like it’s 2020 🥖', 'Finally reunited 😁', 'Did you even grow a beard if you didn’t have a photoshoot after?']\n"
     ]
    }
   ],
   "source": [
    "import requests\n",
    "import json\n",
    "\n",
    "token = 'IGQVJXaGlud09iM0JWUFA4RTl3SkltOHFtNFE4Y1BDQkpSdGpLYXNZAaXpnZAmdXNDlkdjFqRmtZANVZAuclRQeE5kWHMxZA2kxQkpfRTA2Wkp5WENXakxpV3IxVWs2dmhoTFh6TXloQlN3'\n",
    "\n",
    "response_all = requests.get(f'https://graph.instagram.com/me?fields=media&access_token={token}')\n",
    "\n",
    "decoded_all = json.loads(response_all.text)\n",
    "id_objects = decoded_all['media']['data']\n",
    "\n",
    "def get_caption(id_object):\n",
    "    this_id = id_object['id']\n",
    "    url = f'https://graph.instagram.com/{this_id}?fields=caption&access_token={token}'\n",
    "    response_media = requests.get(url)\n",
    "    decoded_media = json.loads(response_media.text)\n",
    "    caption = decoded_media['caption']\n",
    "    return caption\n",
    "\n",
    "captions = list(map(get_caption, id_objects))\n",
    "\n",
    "print(captions)\n"
   ]
  },
  {
   "cell_type": "code",
   "execution_count": null,
   "id": "47f4a68f",
   "metadata": {},
   "outputs": [],
   "source": []
  }
 ],
 "metadata": {
  "kernelspec": {
   "display_name": "Python 3 (ipykernel)",
   "language": "python",
   "name": "python3"
  },
  "language_info": {
   "codemirror_mode": {
    "name": "ipython",
    "version": 3
   },
   "file_extension": ".py",
   "mimetype": "text/x-python",
   "name": "python",
   "nbconvert_exporter": "python",
   "pygments_lexer": "ipython3",
   "version": "3.8.9"
  }
 },
 "nbformat": 4,
 "nbformat_minor": 5
}
